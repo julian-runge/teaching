{
 "cells": [
  {
   "cell_type": "code",
   "execution_count": 7,
   "metadata": {},
   "outputs": [
    {
     "name": "stdout",
     "output_type": "stream",
     "text": [
      "Requirement already satisfied: xgboost in /Users/j.runge/opt/anaconda3/lib/python3.9/site-packages (1.6.2)\n",
      "Requirement already satisfied: numpy in /Users/j.runge/opt/anaconda3/lib/python3.9/site-packages (from xgboost) (1.21.5)\n",
      "Requirement already satisfied: scipy in /Users/j.runge/opt/anaconda3/lib/python3.9/site-packages (from xgboost) (1.7.3)\n",
      "Requirement already satisfied: fastparquet in /Users/j.runge/opt/anaconda3/lib/python3.9/site-packages (0.8.3)\n",
      "Requirement already satisfied: numpy>=1.18 in /Users/j.runge/opt/anaconda3/lib/python3.9/site-packages (from fastparquet) (1.21.5)\n",
      "Requirement already satisfied: packaging in /Users/j.runge/opt/anaconda3/lib/python3.9/site-packages (from fastparquet) (21.3)\n",
      "Requirement already satisfied: fsspec in /Users/j.runge/opt/anaconda3/lib/python3.9/site-packages (from fastparquet) (2022.2.0)\n",
      "Requirement already satisfied: pandas>=1.1.0 in /Users/j.runge/opt/anaconda3/lib/python3.9/site-packages (from fastparquet) (1.4.2)\n",
      "Requirement already satisfied: cramjam>=2.3.0 in /Users/j.runge/opt/anaconda3/lib/python3.9/site-packages (from fastparquet) (2.5.0)\n",
      "Requirement already satisfied: python-dateutil>=2.8.1 in /Users/j.runge/opt/anaconda3/lib/python3.9/site-packages (from pandas>=1.1.0->fastparquet) (2.8.2)\n",
      "Requirement already satisfied: pytz>=2020.1 in /Users/j.runge/opt/anaconda3/lib/python3.9/site-packages (from pandas>=1.1.0->fastparquet) (2021.3)\n",
      "Requirement already satisfied: six>=1.5 in /Users/j.runge/opt/anaconda3/lib/python3.9/site-packages (from python-dateutil>=2.8.1->pandas>=1.1.0->fastparquet) (1.16.0)\n",
      "Requirement already satisfied: pyparsing!=3.0.5,>=2.0.2 in /Users/j.runge/opt/anaconda3/lib/python3.9/site-packages (from packaging->fastparquet) (3.0.4)\n"
     ]
    }
   ],
   "source": [
    "#import libraries\n",
    "!pip install xgboost\n",
    "import pandas as pd\n",
    "from sklearn.model_selection import KFold, cross_val_score\n",
    "from sklearn import ensemble\n",
    "from xgboost import XGBClassifier\n",
    "from xgboost import XGBRegressor\n",
    "import numpy as np\n",
    "from sklearn.inspection import plot_partial_dependence\n",
    "from sklearn import metrics\n",
    "!pip install fastparquet\n",
    "import matplotlib.pyplot as plt\n",
    "from sklearn.ensemble import RandomForestRegressor\n",
    "from sklearn.ensemble import RandomForestClassifier"
   ]
  },
  {
   "cell_type": "code",
   "execution_count": 8,
   "metadata": {},
   "outputs": [],
   "source": [
    "#read the dataset\n",
    "df = pd.read_parquet(r\"/Users/j.runge/Downloads/d14_d30_data_v3.parquet\", engine= 'fastparquet')"
   ]
  },
  {
   "cell_type": "code",
   "execution_count": 9,
   "metadata": {},
   "outputs": [
    {
     "data": {
      "text/html": [
       "<div>\n",
       "<style scoped>\n",
       "    .dataframe tbody tr th:only-of-type {\n",
       "        vertical-align: middle;\n",
       "    }\n",
       "\n",
       "    .dataframe tbody tr th {\n",
       "        vertical-align: top;\n",
       "    }\n",
       "\n",
       "    .dataframe thead th {\n",
       "        text-align: right;\n",
       "    }\n",
       "</style>\n",
       "<table border=\"1\" class=\"dataframe\">\n",
       "  <thead>\n",
       "    <tr style=\"text-align: right;\">\n",
       "      <th></th>\n",
       "      <th>first_login</th>\n",
       "      <th>d1_spend</th>\n",
       "      <th>d3_spend</th>\n",
       "      <th>d7_spend</th>\n",
       "      <th>d14_spend</th>\n",
       "      <th>d30_spend</th>\n",
       "      <th>campaign</th>\n",
       "      <th>media_source</th>\n",
       "      <th>m_1</th>\n",
       "      <th>m_2</th>\n",
       "      <th>...</th>\n",
       "      <th>sum_p_13</th>\n",
       "      <th>len_p_14</th>\n",
       "      <th>count_p_15</th>\n",
       "      <th>count_p_20</th>\n",
       "      <th>sum_p_16</th>\n",
       "      <th>sum_p_17</th>\n",
       "      <th>first_p_18</th>\n",
       "      <th>avg_p_19</th>\n",
       "      <th>sum_p_19</th>\n",
       "      <th>count_p_19</th>\n",
       "    </tr>\n",
       "  </thead>\n",
       "  <tbody>\n",
       "    <tr>\n",
       "      <th>0</th>\n",
       "      <td>2021-12-18</td>\n",
       "      <td>3.779171</td>\n",
       "      <td>3.779171</td>\n",
       "      <td>3.849837</td>\n",
       "      <td>3.849837</td>\n",
       "      <td>3.849837</td>\n",
       "      <td>c_0</td>\n",
       "      <td>ms_0</td>\n",
       "      <td>Motorola</td>\n",
       "      <td>Moto E6s</td>\n",
       "      <td>...</td>\n",
       "      <td>25.85</td>\n",
       "      <td>3</td>\n",
       "      <td>27</td>\n",
       "      <td>&lt;NA&gt;</td>\n",
       "      <td>&lt;NA&gt;</td>\n",
       "      <td>&lt;NA&gt;</td>\n",
       "      <td>&lt;NA&gt;</td>\n",
       "      <td>4.060000</td>\n",
       "      <td>4.06</td>\n",
       "      <td>1</td>\n",
       "    </tr>\n",
       "    <tr>\n",
       "      <th>1</th>\n",
       "      <td>2021-12-18</td>\n",
       "      <td>0.222576</td>\n",
       "      <td>0.536247</td>\n",
       "      <td>0.536247</td>\n",
       "      <td>0.536247</td>\n",
       "      <td>0.536247</td>\n",
       "      <td>c_1</td>\n",
       "      <td>ms_0</td>\n",
       "      <td>OPPO</td>\n",
       "      <td>CPH2127</td>\n",
       "      <td>...</td>\n",
       "      <td>NaN</td>\n",
       "      <td>&lt;NA&gt;</td>\n",
       "      <td>19</td>\n",
       "      <td>2</td>\n",
       "      <td>&lt;NA&gt;</td>\n",
       "      <td>&lt;NA&gt;</td>\n",
       "      <td>&lt;NA&gt;</td>\n",
       "      <td>2.000000</td>\n",
       "      <td>2.00</td>\n",
       "      <td>1</td>\n",
       "    </tr>\n",
       "    <tr>\n",
       "      <th>4</th>\n",
       "      <td>2021-06-11</td>\n",
       "      <td>0.049088</td>\n",
       "      <td>0.049088</td>\n",
       "      <td>0.049088</td>\n",
       "      <td>0.049088</td>\n",
       "      <td>0.049088</td>\n",
       "      <td>c_2</td>\n",
       "      <td>ms_1</td>\n",
       "      <td>Vivo</td>\n",
       "      <td>1907</td>\n",
       "      <td>...</td>\n",
       "      <td>NaN</td>\n",
       "      <td>&lt;NA&gt;</td>\n",
       "      <td>37</td>\n",
       "      <td>&lt;NA&gt;</td>\n",
       "      <td>&lt;NA&gt;</td>\n",
       "      <td>&lt;NA&gt;</td>\n",
       "      <td>&lt;NA&gt;</td>\n",
       "      <td>6.928000</td>\n",
       "      <td>34.64</td>\n",
       "      <td>5</td>\n",
       "    </tr>\n",
       "    <tr>\n",
       "      <th>5</th>\n",
       "      <td>2021-08-17</td>\n",
       "      <td>NaN</td>\n",
       "      <td>NaN</td>\n",
       "      <td>NaN</td>\n",
       "      <td>NaN</td>\n",
       "      <td>0.761715</td>\n",
       "      <td>c_1</td>\n",
       "      <td>ms_0</td>\n",
       "      <td>Lenovo</td>\n",
       "      <td>TB-X606V</td>\n",
       "      <td>...</td>\n",
       "      <td>NaN</td>\n",
       "      <td>&lt;NA&gt;</td>\n",
       "      <td>8</td>\n",
       "      <td>&lt;NA&gt;</td>\n",
       "      <td>&lt;NA&gt;</td>\n",
       "      <td>&lt;NA&gt;</td>\n",
       "      <td>&lt;NA&gt;</td>\n",
       "      <td>5.000000</td>\n",
       "      <td>5.00</td>\n",
       "      <td>1</td>\n",
       "    </tr>\n",
       "    <tr>\n",
       "      <th>6</th>\n",
       "      <td>2021-08-10</td>\n",
       "      <td>0.377731</td>\n",
       "      <td>0.377731</td>\n",
       "      <td>0.377731</td>\n",
       "      <td>0.377731</td>\n",
       "      <td>0.377731</td>\n",
       "      <td>c_3</td>\n",
       "      <td>ms_1</td>\n",
       "      <td>OPPO</td>\n",
       "      <td>CPH2127</td>\n",
       "      <td>...</td>\n",
       "      <td>NaN</td>\n",
       "      <td>&lt;NA&gt;</td>\n",
       "      <td>4</td>\n",
       "      <td>&lt;NA&gt;</td>\n",
       "      <td>&lt;NA&gt;</td>\n",
       "      <td>&lt;NA&gt;</td>\n",
       "      <td>&lt;NA&gt;</td>\n",
       "      <td>2.390000</td>\n",
       "      <td>2.39</td>\n",
       "      <td>1</td>\n",
       "    </tr>\n",
       "    <tr>\n",
       "      <th>...</th>\n",
       "      <td>...</td>\n",
       "      <td>...</td>\n",
       "      <td>...</td>\n",
       "      <td>...</td>\n",
       "      <td>...</td>\n",
       "      <td>...</td>\n",
       "      <td>...</td>\n",
       "      <td>...</td>\n",
       "      <td>...</td>\n",
       "      <td>...</td>\n",
       "      <td>...</td>\n",
       "      <td>...</td>\n",
       "      <td>...</td>\n",
       "      <td>...</td>\n",
       "      <td>...</td>\n",
       "      <td>...</td>\n",
       "      <td>...</td>\n",
       "      <td>...</td>\n",
       "      <td>...</td>\n",
       "      <td>...</td>\n",
       "      <td>...</td>\n",
       "    </tr>\n",
       "    <tr>\n",
       "      <th>331914</th>\n",
       "      <td>2021-10-01</td>\n",
       "      <td>0.048490</td>\n",
       "      <td>0.048490</td>\n",
       "      <td>0.048490</td>\n",
       "      <td>0.048490</td>\n",
       "      <td>0.048490</td>\n",
       "      <td>c_1</td>\n",
       "      <td>ms_0</td>\n",
       "      <td>Samsung</td>\n",
       "      <td>SM-J700F</td>\n",
       "      <td>...</td>\n",
       "      <td>NaN</td>\n",
       "      <td>&lt;NA&gt;</td>\n",
       "      <td>2</td>\n",
       "      <td>&lt;NA&gt;</td>\n",
       "      <td>&lt;NA&gt;</td>\n",
       "      <td>&lt;NA&gt;</td>\n",
       "      <td>&lt;NA&gt;</td>\n",
       "      <td>4.000000</td>\n",
       "      <td>4.00</td>\n",
       "      <td>1</td>\n",
       "    </tr>\n",
       "    <tr>\n",
       "      <th>331915</th>\n",
       "      <td>2021-12-03</td>\n",
       "      <td>0.299588</td>\n",
       "      <td>0.299588</td>\n",
       "      <td>0.299588</td>\n",
       "      <td>0.299588</td>\n",
       "      <td>0.299588</td>\n",
       "      <td>c_0</td>\n",
       "      <td>ms_0</td>\n",
       "      <td>None</td>\n",
       "      <td>None</td>\n",
       "      <td>...</td>\n",
       "      <td>NaN</td>\n",
       "      <td>&lt;NA&gt;</td>\n",
       "      <td>2</td>\n",
       "      <td>&lt;NA&gt;</td>\n",
       "      <td>&lt;NA&gt;</td>\n",
       "      <td>&lt;NA&gt;</td>\n",
       "      <td>&lt;NA&gt;</td>\n",
       "      <td>2.000000</td>\n",
       "      <td>2.00</td>\n",
       "      <td>1</td>\n",
       "    </tr>\n",
       "    <tr>\n",
       "      <th>331916</th>\n",
       "      <td>2021-12-03</td>\n",
       "      <td>NaN</td>\n",
       "      <td>NaN</td>\n",
       "      <td>79.165510</td>\n",
       "      <td>118.631176</td>\n",
       "      <td>119.051302</td>\n",
       "      <td>c_60</td>\n",
       "      <td>ms_1</td>\n",
       "      <td>Vivo</td>\n",
       "      <td>Vivo 2015</td>\n",
       "      <td>...</td>\n",
       "      <td>NaN</td>\n",
       "      <td>&lt;NA&gt;</td>\n",
       "      <td>85</td>\n",
       "      <td>&lt;NA&gt;</td>\n",
       "      <td>0</td>\n",
       "      <td>143</td>\n",
       "      <td>&lt;NA&gt;</td>\n",
       "      <td>25.777778</td>\n",
       "      <td>232.00</td>\n",
       "      <td>9</td>\n",
       "    </tr>\n",
       "    <tr>\n",
       "      <th>331917</th>\n",
       "      <td>2021-02-06</td>\n",
       "      <td>0.641836</td>\n",
       "      <td>0.641836</td>\n",
       "      <td>0.641836</td>\n",
       "      <td>0.641836</td>\n",
       "      <td>0.641836</td>\n",
       "      <td>c_5</td>\n",
       "      <td>ms_1</td>\n",
       "      <td>OPPO</td>\n",
       "      <td>CPH2015</td>\n",
       "      <td>...</td>\n",
       "      <td>NaN</td>\n",
       "      <td>&lt;NA&gt;</td>\n",
       "      <td>8</td>\n",
       "      <td>&lt;NA&gt;</td>\n",
       "      <td>&lt;NA&gt;</td>\n",
       "      <td>&lt;NA&gt;</td>\n",
       "      <td>&lt;NA&gt;</td>\n",
       "      <td>2.480000</td>\n",
       "      <td>2.48</td>\n",
       "      <td>1</td>\n",
       "    </tr>\n",
       "    <tr>\n",
       "      <th>331918</th>\n",
       "      <td>2021-04-11</td>\n",
       "      <td>0.048469</td>\n",
       "      <td>0.048469</td>\n",
       "      <td>0.048469</td>\n",
       "      <td>0.048469</td>\n",
       "      <td>0.048469</td>\n",
       "      <td>c_6</td>\n",
       "      <td>ms_1</td>\n",
       "      <td>Xiaomi</td>\n",
       "      <td>POCO F1</td>\n",
       "      <td>...</td>\n",
       "      <td>NaN</td>\n",
       "      <td>&lt;NA&gt;</td>\n",
       "      <td>3</td>\n",
       "      <td>&lt;NA&gt;</td>\n",
       "      <td>&lt;NA&gt;</td>\n",
       "      <td>&lt;NA&gt;</td>\n",
       "      <td>&lt;NA&gt;</td>\n",
       "      <td>2.600000</td>\n",
       "      <td>2.60</td>\n",
       "      <td>1</td>\n",
       "    </tr>\n",
       "  </tbody>\n",
       "</table>\n",
       "<p>292289 rows × 46 columns</p>\n",
       "</div>"
      ],
      "text/plain": [
       "       first_login  d1_spend  d3_spend   d7_spend   d14_spend   d30_spend  \\\n",
       "0       2021-12-18  3.779171  3.779171   3.849837    3.849837    3.849837   \n",
       "1       2021-12-18  0.222576  0.536247   0.536247    0.536247    0.536247   \n",
       "4       2021-06-11  0.049088  0.049088   0.049088    0.049088    0.049088   \n",
       "5       2021-08-17       NaN       NaN        NaN         NaN    0.761715   \n",
       "6       2021-08-10  0.377731  0.377731   0.377731    0.377731    0.377731   \n",
       "...            ...       ...       ...        ...         ...         ...   \n",
       "331914  2021-10-01  0.048490  0.048490   0.048490    0.048490    0.048490   \n",
       "331915  2021-12-03  0.299588  0.299588   0.299588    0.299588    0.299588   \n",
       "331916  2021-12-03       NaN       NaN  79.165510  118.631176  119.051302   \n",
       "331917  2021-02-06  0.641836  0.641836   0.641836    0.641836    0.641836   \n",
       "331918  2021-04-11  0.048469  0.048469   0.048469    0.048469    0.048469   \n",
       "\n",
       "       campaign media_source       m_1        m_2  ... sum_p_13 len_p_14  \\\n",
       "0           c_0         ms_0  Motorola   Moto E6s  ...    25.85        3   \n",
       "1           c_1         ms_0      OPPO    CPH2127  ...      NaN     <NA>   \n",
       "4           c_2         ms_1      Vivo       1907  ...      NaN     <NA>   \n",
       "5           c_1         ms_0    Lenovo   TB-X606V  ...      NaN     <NA>   \n",
       "6           c_3         ms_1      OPPO    CPH2127  ...      NaN     <NA>   \n",
       "...         ...          ...       ...        ...  ...      ...      ...   \n",
       "331914      c_1         ms_0   Samsung   SM-J700F  ...      NaN     <NA>   \n",
       "331915      c_0         ms_0      None       None  ...      NaN     <NA>   \n",
       "331916     c_60         ms_1      Vivo  Vivo 2015  ...      NaN     <NA>   \n",
       "331917      c_5         ms_1      OPPO    CPH2015  ...      NaN     <NA>   \n",
       "331918      c_6         ms_1    Xiaomi    POCO F1  ...      NaN     <NA>   \n",
       "\n",
       "       count_p_15 count_p_20  sum_p_16  sum_p_17  first_p_18   avg_p_19  \\\n",
       "0              27       <NA>      <NA>      <NA>        <NA>   4.060000   \n",
       "1              19          2      <NA>      <NA>        <NA>   2.000000   \n",
       "4              37       <NA>      <NA>      <NA>        <NA>   6.928000   \n",
       "5               8       <NA>      <NA>      <NA>        <NA>   5.000000   \n",
       "6               4       <NA>      <NA>      <NA>        <NA>   2.390000   \n",
       "...           ...        ...       ...       ...         ...        ...   \n",
       "331914          2       <NA>      <NA>      <NA>        <NA>   4.000000   \n",
       "331915          2       <NA>      <NA>      <NA>        <NA>   2.000000   \n",
       "331916         85       <NA>         0       143        <NA>  25.777778   \n",
       "331917          8       <NA>      <NA>      <NA>        <NA>   2.480000   \n",
       "331918          3       <NA>      <NA>      <NA>        <NA>   2.600000   \n",
       "\n",
       "        sum_p_19 count_p_19  \n",
       "0           4.06          1  \n",
       "1           2.00          1  \n",
       "4          34.64          5  \n",
       "5           5.00          1  \n",
       "6           2.39          1  \n",
       "...          ...        ...  \n",
       "331914      4.00          1  \n",
       "331915      2.00          1  \n",
       "331916    232.00          9  \n",
       "331917      2.48          1  \n",
       "331918      2.60          1  \n",
       "\n",
       "[292289 rows x 46 columns]"
      ]
     },
     "execution_count": 9,
     "metadata": {},
     "output_type": "execute_result"
    }
   ],
   "source": [
    "df"
   ]
  },
  {
   "cell_type": "code",
   "execution_count": 10,
   "metadata": {},
   "outputs": [],
   "source": [
    "#fill the N/A values\n",
    "df = df.fillna(0)"
   ]
  },
  {
   "cell_type": "code",
   "execution_count": 11,
   "metadata": {},
   "outputs": [],
   "source": [
    "#display top results\n",
    "df = df.head(20000)"
   ]
  },
  {
   "cell_type": "code",
   "execution_count": 12,
   "metadata": {},
   "outputs": [],
   "source": [
    "#Drop the columns\n",
    "dfx = df.drop(columns = ['d30_spend','first_login','campaign','media_source','m_1','m_2','u_3','u_1','u_4','u_2','p_3'])"
   ]
  },
  {
   "cell_type": "code",
   "execution_count": 13,
   "metadata": {},
   "outputs": [
    {
     "data": {
      "text/html": [
       "<div>\n",
       "<style scoped>\n",
       "    .dataframe tbody tr th:only-of-type {\n",
       "        vertical-align: middle;\n",
       "    }\n",
       "\n",
       "    .dataframe tbody tr th {\n",
       "        vertical-align: top;\n",
       "    }\n",
       "\n",
       "    .dataframe thead th {\n",
       "        text-align: right;\n",
       "    }\n",
       "</style>\n",
       "<table border=\"1\" class=\"dataframe\">\n",
       "  <thead>\n",
       "    <tr style=\"text-align: right;\">\n",
       "      <th></th>\n",
       "      <th>d1_spend</th>\n",
       "      <th>d3_spend</th>\n",
       "      <th>d7_spend</th>\n",
       "      <th>d14_spend</th>\n",
       "      <th>m_3</th>\n",
       "      <th>m_4</th>\n",
       "      <th>avg_p_1</th>\n",
       "      <th>count_p_1</th>\n",
       "      <th>max_p_2</th>\n",
       "      <th>p_4</th>\n",
       "      <th>...</th>\n",
       "      <th>sum_p_13</th>\n",
       "      <th>len_p_14</th>\n",
       "      <th>count_p_15</th>\n",
       "      <th>count_p_20</th>\n",
       "      <th>sum_p_16</th>\n",
       "      <th>sum_p_17</th>\n",
       "      <th>first_p_18</th>\n",
       "      <th>avg_p_19</th>\n",
       "      <th>sum_p_19</th>\n",
       "      <th>count_p_19</th>\n",
       "    </tr>\n",
       "  </thead>\n",
       "  <tbody>\n",
       "    <tr>\n",
       "      <th>0</th>\n",
       "      <td>3.779171</td>\n",
       "      <td>3.779171</td>\n",
       "      <td>3.849837</td>\n",
       "      <td>3.849837</td>\n",
       "      <td>0</td>\n",
       "      <td>0</td>\n",
       "      <td>40.583161</td>\n",
       "      <td>72</td>\n",
       "      <td>0.01</td>\n",
       "      <td>0.500000</td>\n",
       "      <td>...</td>\n",
       "      <td>25.85</td>\n",
       "      <td>3</td>\n",
       "      <td>27</td>\n",
       "      <td>0</td>\n",
       "      <td>0</td>\n",
       "      <td>0</td>\n",
       "      <td>0</td>\n",
       "      <td>4.060</td>\n",
       "      <td>4.06</td>\n",
       "      <td>1</td>\n",
       "    </tr>\n",
       "    <tr>\n",
       "      <th>1</th>\n",
       "      <td>0.222576</td>\n",
       "      <td>0.536247</td>\n",
       "      <td>0.536247</td>\n",
       "      <td>0.536247</td>\n",
       "      <td>0</td>\n",
       "      <td>0</td>\n",
       "      <td>64.728265</td>\n",
       "      <td>40</td>\n",
       "      <td>0.01</td>\n",
       "      <td>0.500000</td>\n",
       "      <td>...</td>\n",
       "      <td>0.00</td>\n",
       "      <td>0</td>\n",
       "      <td>19</td>\n",
       "      <td>2</td>\n",
       "      <td>0</td>\n",
       "      <td>0</td>\n",
       "      <td>0</td>\n",
       "      <td>2.000</td>\n",
       "      <td>2.00</td>\n",
       "      <td>1</td>\n",
       "    </tr>\n",
       "    <tr>\n",
       "      <th>4</th>\n",
       "      <td>0.049088</td>\n",
       "      <td>0.049088</td>\n",
       "      <td>0.049088</td>\n",
       "      <td>0.049088</td>\n",
       "      <td>0</td>\n",
       "      <td>0</td>\n",
       "      <td>91.734774</td>\n",
       "      <td>3</td>\n",
       "      <td>0.01</td>\n",
       "      <td>0.000000</td>\n",
       "      <td>...</td>\n",
       "      <td>0.00</td>\n",
       "      <td>0</td>\n",
       "      <td>37</td>\n",
       "      <td>0</td>\n",
       "      <td>0</td>\n",
       "      <td>0</td>\n",
       "      <td>0</td>\n",
       "      <td>6.928</td>\n",
       "      <td>34.64</td>\n",
       "      <td>5</td>\n",
       "    </tr>\n",
       "    <tr>\n",
       "      <th>5</th>\n",
       "      <td>0.000000</td>\n",
       "      <td>0.000000</td>\n",
       "      <td>0.000000</td>\n",
       "      <td>0.000000</td>\n",
       "      <td>0</td>\n",
       "      <td>0</td>\n",
       "      <td>0.000000</td>\n",
       "      <td>0</td>\n",
       "      <td>0.00</td>\n",
       "      <td>0.000000</td>\n",
       "      <td>...</td>\n",
       "      <td>0.00</td>\n",
       "      <td>0</td>\n",
       "      <td>8</td>\n",
       "      <td>0</td>\n",
       "      <td>0</td>\n",
       "      <td>0</td>\n",
       "      <td>0</td>\n",
       "      <td>5.000</td>\n",
       "      <td>5.00</td>\n",
       "      <td>1</td>\n",
       "    </tr>\n",
       "    <tr>\n",
       "      <th>6</th>\n",
       "      <td>0.377731</td>\n",
       "      <td>0.377731</td>\n",
       "      <td>0.377731</td>\n",
       "      <td>0.377731</td>\n",
       "      <td>0</td>\n",
       "      <td>0</td>\n",
       "      <td>62.417732</td>\n",
       "      <td>18</td>\n",
       "      <td>0.01</td>\n",
       "      <td>0.500000</td>\n",
       "      <td>...</td>\n",
       "      <td>0.00</td>\n",
       "      <td>0</td>\n",
       "      <td>4</td>\n",
       "      <td>0</td>\n",
       "      <td>0</td>\n",
       "      <td>0</td>\n",
       "      <td>0</td>\n",
       "      <td>2.390</td>\n",
       "      <td>2.39</td>\n",
       "      <td>1</td>\n",
       "    </tr>\n",
       "    <tr>\n",
       "      <th>...</th>\n",
       "      <td>...</td>\n",
       "      <td>...</td>\n",
       "      <td>...</td>\n",
       "      <td>...</td>\n",
       "      <td>...</td>\n",
       "      <td>...</td>\n",
       "      <td>...</td>\n",
       "      <td>...</td>\n",
       "      <td>...</td>\n",
       "      <td>...</td>\n",
       "      <td>...</td>\n",
       "      <td>...</td>\n",
       "      <td>...</td>\n",
       "      <td>...</td>\n",
       "      <td>...</td>\n",
       "      <td>...</td>\n",
       "      <td>...</td>\n",
       "      <td>...</td>\n",
       "      <td>...</td>\n",
       "      <td>...</td>\n",
       "      <td>...</td>\n",
       "    </tr>\n",
       "    <tr>\n",
       "      <th>22696</th>\n",
       "      <td>0.266826</td>\n",
       "      <td>0.266826</td>\n",
       "      <td>0.266826</td>\n",
       "      <td>0.266826</td>\n",
       "      <td>0</td>\n",
       "      <td>0</td>\n",
       "      <td>43.615445</td>\n",
       "      <td>18</td>\n",
       "      <td>0.01</td>\n",
       "      <td>0.666667</td>\n",
       "      <td>...</td>\n",
       "      <td>0.00</td>\n",
       "      <td>0</td>\n",
       "      <td>12</td>\n",
       "      <td>0</td>\n",
       "      <td>0</td>\n",
       "      <td>0</td>\n",
       "      <td>0</td>\n",
       "      <td>2.590</td>\n",
       "      <td>2.59</td>\n",
       "      <td>1</td>\n",
       "    </tr>\n",
       "    <tr>\n",
       "      <th>22697</th>\n",
       "      <td>0.129286</td>\n",
       "      <td>0.129286</td>\n",
       "      <td>0.129286</td>\n",
       "      <td>0.129286</td>\n",
       "      <td>0</td>\n",
       "      <td>0</td>\n",
       "      <td>44.274785</td>\n",
       "      <td>8</td>\n",
       "      <td>0.01</td>\n",
       "      <td>0.500000</td>\n",
       "      <td>...</td>\n",
       "      <td>0.00</td>\n",
       "      <td>0</td>\n",
       "      <td>12</td>\n",
       "      <td>0</td>\n",
       "      <td>0</td>\n",
       "      <td>0</td>\n",
       "      <td>0</td>\n",
       "      <td>2.000</td>\n",
       "      <td>2.00</td>\n",
       "      <td>1</td>\n",
       "    </tr>\n",
       "    <tr>\n",
       "      <th>22698</th>\n",
       "      <td>0.225761</td>\n",
       "      <td>0.225761</td>\n",
       "      <td>0.225761</td>\n",
       "      <td>0.225761</td>\n",
       "      <td>0</td>\n",
       "      <td>0</td>\n",
       "      <td>27.636236</td>\n",
       "      <td>11</td>\n",
       "      <td>0.01</td>\n",
       "      <td>0.500000</td>\n",
       "      <td>...</td>\n",
       "      <td>0.00</td>\n",
       "      <td>0</td>\n",
       "      <td>23</td>\n",
       "      <td>0</td>\n",
       "      <td>0</td>\n",
       "      <td>0</td>\n",
       "      <td>0</td>\n",
       "      <td>12.750</td>\n",
       "      <td>102.00</td>\n",
       "      <td>8</td>\n",
       "    </tr>\n",
       "    <tr>\n",
       "      <th>22699</th>\n",
       "      <td>44.236229</td>\n",
       "      <td>116.113346</td>\n",
       "      <td>264.589331</td>\n",
       "      <td>267.635450</td>\n",
       "      <td>0</td>\n",
       "      <td>0</td>\n",
       "      <td>66.920192</td>\n",
       "      <td>1253</td>\n",
       "      <td>0.01</td>\n",
       "      <td>0.666667</td>\n",
       "      <td>...</td>\n",
       "      <td>400.00</td>\n",
       "      <td>2</td>\n",
       "      <td>236</td>\n",
       "      <td>22</td>\n",
       "      <td>819</td>\n",
       "      <td>146</td>\n",
       "      <td>0</td>\n",
       "      <td>32.809</td>\n",
       "      <td>656.18</td>\n",
       "      <td>20</td>\n",
       "    </tr>\n",
       "    <tr>\n",
       "      <th>22700</th>\n",
       "      <td>0.005000</td>\n",
       "      <td>0.005000</td>\n",
       "      <td>0.005000</td>\n",
       "      <td>0.005000</td>\n",
       "      <td>0</td>\n",
       "      <td>0</td>\n",
       "      <td>61.000000</td>\n",
       "      <td>1</td>\n",
       "      <td>0.01</td>\n",
       "      <td>0.000000</td>\n",
       "      <td>...</td>\n",
       "      <td>0.00</td>\n",
       "      <td>0</td>\n",
       "      <td>6</td>\n",
       "      <td>30</td>\n",
       "      <td>0</td>\n",
       "      <td>0</td>\n",
       "      <td>0</td>\n",
       "      <td>7.000</td>\n",
       "      <td>14.00</td>\n",
       "      <td>2</td>\n",
       "    </tr>\n",
       "  </tbody>\n",
       "</table>\n",
       "<p>20000 rows × 35 columns</p>\n",
       "</div>"
      ],
      "text/plain": [
       "        d1_spend    d3_spend    d7_spend   d14_spend  m_3  m_4    avg_p_1  \\\n",
       "0       3.779171    3.779171    3.849837    3.849837    0    0  40.583161   \n",
       "1       0.222576    0.536247    0.536247    0.536247    0    0  64.728265   \n",
       "4       0.049088    0.049088    0.049088    0.049088    0    0  91.734774   \n",
       "5       0.000000    0.000000    0.000000    0.000000    0    0   0.000000   \n",
       "6       0.377731    0.377731    0.377731    0.377731    0    0  62.417732   \n",
       "...          ...         ...         ...         ...  ...  ...        ...   \n",
       "22696   0.266826    0.266826    0.266826    0.266826    0    0  43.615445   \n",
       "22697   0.129286    0.129286    0.129286    0.129286    0    0  44.274785   \n",
       "22698   0.225761    0.225761    0.225761    0.225761    0    0  27.636236   \n",
       "22699  44.236229  116.113346  264.589331  267.635450    0    0  66.920192   \n",
       "22700   0.005000    0.005000    0.005000    0.005000    0    0  61.000000   \n",
       "\n",
       "       count_p_1  max_p_2       p_4  ...  sum_p_13  len_p_14  count_p_15  \\\n",
       "0             72     0.01  0.500000  ...     25.85         3          27   \n",
       "1             40     0.01  0.500000  ...      0.00         0          19   \n",
       "4              3     0.01  0.000000  ...      0.00         0          37   \n",
       "5              0     0.00  0.000000  ...      0.00         0           8   \n",
       "6             18     0.01  0.500000  ...      0.00         0           4   \n",
       "...          ...      ...       ...  ...       ...       ...         ...   \n",
       "22696         18     0.01  0.666667  ...      0.00         0          12   \n",
       "22697          8     0.01  0.500000  ...      0.00         0          12   \n",
       "22698         11     0.01  0.500000  ...      0.00         0          23   \n",
       "22699       1253     0.01  0.666667  ...    400.00         2         236   \n",
       "22700          1     0.01  0.000000  ...      0.00         0           6   \n",
       "\n",
       "       count_p_20  sum_p_16  sum_p_17  first_p_18  avg_p_19  sum_p_19  \\\n",
       "0               0         0         0           0     4.060      4.06   \n",
       "1               2         0         0           0     2.000      2.00   \n",
       "4               0         0         0           0     6.928     34.64   \n",
       "5               0         0         0           0     5.000      5.00   \n",
       "6               0         0         0           0     2.390      2.39   \n",
       "...           ...       ...       ...         ...       ...       ...   \n",
       "22696           0         0         0           0     2.590      2.59   \n",
       "22697           0         0         0           0     2.000      2.00   \n",
       "22698           0         0         0           0    12.750    102.00   \n",
       "22699          22       819       146           0    32.809    656.18   \n",
       "22700          30         0         0           0     7.000     14.00   \n",
       "\n",
       "       count_p_19  \n",
       "0               1  \n",
       "1               1  \n",
       "4               5  \n",
       "5               1  \n",
       "6               1  \n",
       "...           ...  \n",
       "22696           1  \n",
       "22697           1  \n",
       "22698           8  \n",
       "22699          20  \n",
       "22700           2  \n",
       "\n",
       "[20000 rows x 35 columns]"
      ]
     },
     "execution_count": 13,
     "metadata": {},
     "output_type": "execute_result"
    }
   ],
   "source": [
    "dfx"
   ]
  },
  {
   "cell_type": "code",
   "execution_count": 14,
   "metadata": {},
   "outputs": [
    {
     "name": "stdout",
     "output_type": "stream",
     "text": [
      "20000\n"
     ]
    }
   ],
   "source": [
    "#check for null values\n",
    "print(dfx.shape[0])\n",
    "for i in dfx:\n",
    "    if dfx[i].isna().sum() > 0:\n",
    "        print(f'{i}---->{dfx[i].dtypes}---->{dfx[i].isna().sum()}')"
   ]
  },
  {
   "cell_type": "code",
   "execution_count": 15,
   "metadata": {},
   "outputs": [
    {
     "data": {
      "text/html": [
       "<div>\n",
       "<style scoped>\n",
       "    .dataframe tbody tr th:only-of-type {\n",
       "        vertical-align: middle;\n",
       "    }\n",
       "\n",
       "    .dataframe tbody tr th {\n",
       "        vertical-align: top;\n",
       "    }\n",
       "\n",
       "    .dataframe thead th {\n",
       "        text-align: right;\n",
       "    }\n",
       "</style>\n",
       "<table border=\"1\" class=\"dataframe\">\n",
       "  <thead>\n",
       "    <tr style=\"text-align: right;\">\n",
       "      <th></th>\n",
       "      <th>d1_spend</th>\n",
       "      <th>d3_spend</th>\n",
       "      <th>d7_spend</th>\n",
       "      <th>d14_spend</th>\n",
       "      <th>m_3</th>\n",
       "      <th>m_4</th>\n",
       "      <th>avg_p_1</th>\n",
       "      <th>count_p_1</th>\n",
       "      <th>max_p_2</th>\n",
       "      <th>p_4</th>\n",
       "      <th>...</th>\n",
       "      <th>sum_p_13</th>\n",
       "      <th>len_p_14</th>\n",
       "      <th>count_p_15</th>\n",
       "      <th>count_p_20</th>\n",
       "      <th>sum_p_16</th>\n",
       "      <th>sum_p_17</th>\n",
       "      <th>first_p_18</th>\n",
       "      <th>avg_p_19</th>\n",
       "      <th>sum_p_19</th>\n",
       "      <th>count_p_19</th>\n",
       "    </tr>\n",
       "  </thead>\n",
       "  <tbody>\n",
       "    <tr>\n",
       "      <th>count</th>\n",
       "      <td>20000.000000</td>\n",
       "      <td>20000.000000</td>\n",
       "      <td>20000.000000</td>\n",
       "      <td>20000.000000</td>\n",
       "      <td>20000.000000</td>\n",
       "      <td>20000.000000</td>\n",
       "      <td>20000.000000</td>\n",
       "      <td>20000.000000</td>\n",
       "      <td>20000.000000</td>\n",
       "      <td>20000.000000</td>\n",
       "      <td>...</td>\n",
       "      <td>20000.000000</td>\n",
       "      <td>20000.000000</td>\n",
       "      <td>20000.000000</td>\n",
       "      <td>20000.000000</td>\n",
       "      <td>20000.000000</td>\n",
       "      <td>20000.000000</td>\n",
       "      <td>20000.00000</td>\n",
       "      <td>20000.000000</td>\n",
       "      <td>20000.000000</td>\n",
       "      <td>20000.000000</td>\n",
       "    </tr>\n",
       "    <tr>\n",
       "      <th>mean</th>\n",
       "      <td>6.886881</td>\n",
       "      <td>17.864998</td>\n",
       "      <td>30.727450</td>\n",
       "      <td>50.267478</td>\n",
       "      <td>0.051750</td>\n",
       "      <td>0.051750</td>\n",
       "      <td>45.854733</td>\n",
       "      <td>42.066950</td>\n",
       "      <td>0.009801</td>\n",
       "      <td>0.365289</td>\n",
       "      <td>...</td>\n",
       "      <td>197.421072</td>\n",
       "      <td>0.378650</td>\n",
       "      <td>20.944000</td>\n",
       "      <td>8.316800</td>\n",
       "      <td>5.583900</td>\n",
       "      <td>36.798150</td>\n",
       "      <td>0.06475</td>\n",
       "      <td>7.368713</td>\n",
       "      <td>44.658120</td>\n",
       "      <td>2.718900</td>\n",
       "    </tr>\n",
       "    <tr>\n",
       "      <th>std</th>\n",
       "      <td>90.452437</td>\n",
       "      <td>304.894519</td>\n",
       "      <td>484.593397</td>\n",
       "      <td>755.185304</td>\n",
       "      <td>0.221527</td>\n",
       "      <td>0.221527</td>\n",
       "      <td>28.105392</td>\n",
       "      <td>210.194924</td>\n",
       "      <td>0.001397</td>\n",
       "      <td>0.279018</td>\n",
       "      <td>...</td>\n",
       "      <td>2831.962157</td>\n",
       "      <td>2.738366</td>\n",
       "      <td>61.534384</td>\n",
       "      <td>32.282233</td>\n",
       "      <td>81.336241</td>\n",
       "      <td>956.196407</td>\n",
       "      <td>0.24609</td>\n",
       "      <td>16.982541</td>\n",
       "      <td>365.936703</td>\n",
       "      <td>52.182124</td>\n",
       "    </tr>\n",
       "    <tr>\n",
       "      <th>min</th>\n",
       "      <td>0.000000</td>\n",
       "      <td>0.000000</td>\n",
       "      <td>0.000000</td>\n",
       "      <td>0.000000</td>\n",
       "      <td>0.000000</td>\n",
       "      <td>0.000000</td>\n",
       "      <td>0.000000</td>\n",
       "      <td>0.000000</td>\n",
       "      <td>0.000000</td>\n",
       "      <td>0.000000</td>\n",
       "      <td>...</td>\n",
       "      <td>0.000000</td>\n",
       "      <td>0.000000</td>\n",
       "      <td>0.000000</td>\n",
       "      <td>0.000000</td>\n",
       "      <td>0.000000</td>\n",
       "      <td>0.000000</td>\n",
       "      <td>0.00000</td>\n",
       "      <td>0.000000</td>\n",
       "      <td>0.000000</td>\n",
       "      <td>0.000000</td>\n",
       "    </tr>\n",
       "    <tr>\n",
       "      <th>25%</th>\n",
       "      <td>0.013333</td>\n",
       "      <td>0.022072</td>\n",
       "      <td>0.028636</td>\n",
       "      <td>0.035000</td>\n",
       "      <td>0.000000</td>\n",
       "      <td>0.000000</td>\n",
       "      <td>29.000000</td>\n",
       "      <td>1.000000</td>\n",
       "      <td>0.010000</td>\n",
       "      <td>0.000000</td>\n",
       "      <td>...</td>\n",
       "      <td>0.000000</td>\n",
       "      <td>0.000000</td>\n",
       "      <td>3.000000</td>\n",
       "      <td>0.000000</td>\n",
       "      <td>0.000000</td>\n",
       "      <td>0.000000</td>\n",
       "      <td>0.00000</td>\n",
       "      <td>2.000000</td>\n",
       "      <td>2.000000</td>\n",
       "      <td>1.000000</td>\n",
       "    </tr>\n",
       "    <tr>\n",
       "      <th>50%</th>\n",
       "      <td>0.078333</td>\n",
       "      <td>0.096166</td>\n",
       "      <td>0.100000</td>\n",
       "      <td>0.103923</td>\n",
       "      <td>0.000000</td>\n",
       "      <td>0.000000</td>\n",
       "      <td>50.000000</td>\n",
       "      <td>4.000000</td>\n",
       "      <td>0.010000</td>\n",
       "      <td>0.500000</td>\n",
       "      <td>...</td>\n",
       "      <td>0.000000</td>\n",
       "      <td>0.000000</td>\n",
       "      <td>7.000000</td>\n",
       "      <td>0.000000</td>\n",
       "      <td>0.000000</td>\n",
       "      <td>0.000000</td>\n",
       "      <td>0.00000</td>\n",
       "      <td>2.590000</td>\n",
       "      <td>2.620000</td>\n",
       "      <td>1.000000</td>\n",
       "    </tr>\n",
       "    <tr>\n",
       "      <th>75%</th>\n",
       "      <td>0.312312</td>\n",
       "      <td>0.411386</td>\n",
       "      <td>0.493730</td>\n",
       "      <td>0.555921</td>\n",
       "      <td>0.000000</td>\n",
       "      <td>0.000000</td>\n",
       "      <td>64.133357</td>\n",
       "      <td>12.000000</td>\n",
       "      <td>0.010000</td>\n",
       "      <td>0.500000</td>\n",
       "      <td>...</td>\n",
       "      <td>0.000000</td>\n",
       "      <td>0.000000</td>\n",
       "      <td>16.000000</td>\n",
       "      <td>1.000000</td>\n",
       "      <td>0.000000</td>\n",
       "      <td>0.000000</td>\n",
       "      <td>0.00000</td>\n",
       "      <td>7.000000</td>\n",
       "      <td>14.000000</td>\n",
       "      <td>2.000000</td>\n",
       "    </tr>\n",
       "    <tr>\n",
       "      <th>max</th>\n",
       "      <td>5698.203382</td>\n",
       "      <td>19778.961262</td>\n",
       "      <td>30828.618424</td>\n",
       "      <td>40416.562376</td>\n",
       "      <td>1.000000</td>\n",
       "      <td>1.000000</td>\n",
       "      <td>190.206776</td>\n",
       "      <td>5657.000000</td>\n",
       "      <td>0.010000</td>\n",
       "      <td>1.000000</td>\n",
       "      <td>...</td>\n",
       "      <td>212421.000000</td>\n",
       "      <td>106.000000</td>\n",
       "      <td>2013.000000</td>\n",
       "      <td>924.000000</td>\n",
       "      <td>4070.000000</td>\n",
       "      <td>119862.000000</td>\n",
       "      <td>1.00000</td>\n",
       "      <td>626.000000</td>\n",
       "      <td>38988.000000</td>\n",
       "      <td>7264.000000</td>\n",
       "    </tr>\n",
       "  </tbody>\n",
       "</table>\n",
       "<p>8 rows × 35 columns</p>\n",
       "</div>"
      ],
      "text/plain": [
       "           d1_spend      d3_spend      d7_spend     d14_spend           m_3  \\\n",
       "count  20000.000000  20000.000000  20000.000000  20000.000000  20000.000000   \n",
       "mean       6.886881     17.864998     30.727450     50.267478      0.051750   \n",
       "std       90.452437    304.894519    484.593397    755.185304      0.221527   \n",
       "min        0.000000      0.000000      0.000000      0.000000      0.000000   \n",
       "25%        0.013333      0.022072      0.028636      0.035000      0.000000   \n",
       "50%        0.078333      0.096166      0.100000      0.103923      0.000000   \n",
       "75%        0.312312      0.411386      0.493730      0.555921      0.000000   \n",
       "max     5698.203382  19778.961262  30828.618424  40416.562376      1.000000   \n",
       "\n",
       "                m_4       avg_p_1     count_p_1       max_p_2           p_4  \\\n",
       "count  20000.000000  20000.000000  20000.000000  20000.000000  20000.000000   \n",
       "mean       0.051750     45.854733     42.066950      0.009801      0.365289   \n",
       "std        0.221527     28.105392    210.194924      0.001397      0.279018   \n",
       "min        0.000000      0.000000      0.000000      0.000000      0.000000   \n",
       "25%        0.000000     29.000000      1.000000      0.010000      0.000000   \n",
       "50%        0.000000     50.000000      4.000000      0.010000      0.500000   \n",
       "75%        0.000000     64.133357     12.000000      0.010000      0.500000   \n",
       "max        1.000000    190.206776   5657.000000      0.010000      1.000000   \n",
       "\n",
       "       ...       sum_p_13      len_p_14    count_p_15    count_p_20  \\\n",
       "count  ...   20000.000000  20000.000000  20000.000000  20000.000000   \n",
       "mean   ...     197.421072      0.378650     20.944000      8.316800   \n",
       "std    ...    2831.962157      2.738366     61.534384     32.282233   \n",
       "min    ...       0.000000      0.000000      0.000000      0.000000   \n",
       "25%    ...       0.000000      0.000000      3.000000      0.000000   \n",
       "50%    ...       0.000000      0.000000      7.000000      0.000000   \n",
       "75%    ...       0.000000      0.000000     16.000000      1.000000   \n",
       "max    ...  212421.000000    106.000000   2013.000000    924.000000   \n",
       "\n",
       "           sum_p_16       sum_p_17   first_p_18      avg_p_19      sum_p_19  \\\n",
       "count  20000.000000   20000.000000  20000.00000  20000.000000  20000.000000   \n",
       "mean       5.583900      36.798150      0.06475      7.368713     44.658120   \n",
       "std       81.336241     956.196407      0.24609     16.982541    365.936703   \n",
       "min        0.000000       0.000000      0.00000      0.000000      0.000000   \n",
       "25%        0.000000       0.000000      0.00000      2.000000      2.000000   \n",
       "50%        0.000000       0.000000      0.00000      2.590000      2.620000   \n",
       "75%        0.000000       0.000000      0.00000      7.000000     14.000000   \n",
       "max     4070.000000  119862.000000      1.00000    626.000000  38988.000000   \n",
       "\n",
       "         count_p_19  \n",
       "count  20000.000000  \n",
       "mean       2.718900  \n",
       "std       52.182124  \n",
       "min        0.000000  \n",
       "25%        1.000000  \n",
       "50%        1.000000  \n",
       "75%        2.000000  \n",
       "max     7264.000000  \n",
       "\n",
       "[8 rows x 35 columns]"
      ]
     },
     "execution_count": 15,
     "metadata": {},
     "output_type": "execute_result"
    }
   ],
   "source": [
    "#descriptive statistics\n",
    "dfx.describe()"
   ]
  },
  {
   "cell_type": "markdown",
   "metadata": {},
   "source": [
    "## Random Forest Regression"
   ]
  },
  {
   "cell_type": "code",
   "execution_count": 20,
   "metadata": {},
   "outputs": [],
   "source": [
    "X = dfx\n",
    "y = df.d30_spend"
   ]
  },
  {
   "cell_type": "code",
   "execution_count": 28,
   "metadata": {},
   "outputs": [
    {
     "name": "stdout",
     "output_type": "stream",
     "text": [
      "Fold:1, Train set: 16000, Test set:4000\n",
      "Fold:2, Train set: 16000, Test set:4000\n",
      "Fold:3, Train set: 16000, Test set:4000\n",
      "Fold:4, Train set: 16000, Test set:4000\n",
      "Fold:5, Train set: 16000, Test set:4000\n"
     ]
    }
   ],
   "source": [
    "#10 fold cross validation\n",
    "kf =KFold(n_splits=5, shuffle=True, random_state=42)\n",
    "\n",
    "cnt = 1\n",
    "for train_index, test_index in kf.split(X, y):\n",
    "    print(f'Fold:{cnt}, Train set: {len(train_index)}, Test set:{len(test_index)}')\n",
    "    cnt += 1"
   ]
  },
  {
   "cell_type": "code",
   "execution_count": 29,
   "metadata": {},
   "outputs": [],
   "source": [
    "#function to calculate the rmse score\n",
    "def rmse(score):\n",
    "    rmse = np.sqrt(-score)\n",
    "    print(f'rmse= {\"{:.2f}\".format(rmse)}')"
   ]
  },
  {
   "cell_type": "code",
   "execution_count": 30,
   "metadata": {},
   "outputs": [
    {
     "name": "stdout",
     "output_type": "stream",
     "text": [
      "Scores for each fold: [ -496649.39641503 -1633752.10914652  -535702.32258588  -394763.40895458\n",
      "  -340547.69858921]\n",
      "rmse= 824.79\n"
     ]
    }
   ],
   "source": [
    "#random forest algorithm \n",
    "reg=RandomForestRegressor(random_state=42)\n",
    "score = cross_val_score(reg, X, y,\n",
    "                        cv=kf, scoring=\"neg_mean_squared_error\")\n",
    "print(f'Scores for each fold: {score}')\n",
    "rmse(score.mean())"
   ]
  },
  {
   "cell_type": "code",
   "execution_count": 31,
   "metadata": {},
   "outputs": [],
   "source": [
    "#variable importance charts\n",
    "df_var_imp = pd.DataFrame({'Variable': dfx.columns,\n",
    "                           'Importance': reg.fit(X,y).feature_importances_}) \\\n",
    "                .sort_values(by='Importance', ascending=False) \\\n",
    "                .reset_index(drop=True)"
   ]
  },
  {
   "cell_type": "code",
   "execution_count": 32,
   "metadata": {},
   "outputs": [
    {
     "data": {
      "text/plain": [
       "<AxesSubplot:ylabel='Variable'>"
      ]
     },
     "execution_count": 32,
     "metadata": {},
     "output_type": "execute_result"
    },
    {
     "data": {
      "image/png": "[encoded data removed]",
      "text/plain": [
       "<Figure size 1080x360 with 1 Axes>"
      ]
     },
     "metadata": {
      "needs_background": "light"
     },
     "output_type": "display_data"
    }
   ],
   "source": [
    "#top 15 variables which are important\n",
    "df_var_imp[:15].sort_values('Importance').plot('Variable','Importance', 'barh', figsize=(15,5), legend=False)"
   ]
  },
  {
   "cell_type": "code",
   "execution_count": 33,
   "metadata": {},
   "outputs": [
    {
     "name": "stderr",
     "output_type": "stream",
     "text": [
      "/Users/j.runge/opt/anaconda3/lib/python3.9/site-packages/sklearn/utils/deprecation.py:87: FutureWarning: Function plot_partial_dependence is deprecated; Function `plot_partial_dependence` is deprecated in 1.0 and will be removed in 1.2. Use PartialDependenceDisplay.from_estimator instead\n",
      "  warnings.warn(msg, category=FutureWarning)\n"
     ]
    },
    {
     "data": {
      "image/png": "[encoded data removed]",
      "text/plain": [
       "<Figure size 1296x288 with 4 Axes>"
      ]
     },
     "metadata": {
      "needs_background": "light"
     },
     "output_type": "display_data"
    }
   ],
   "source": [
    "#partial dependency plot\n",
    "fig,ax = plt.subplots(figsize=(18, 4))\n",
    "plot_partial_dependence(reg, X, ['d14_spend','sum_p_9','sum_p_8'],\n",
    "                        grid_resolution=20, ax=ax);"
   ]
  },
  {
   "cell_type": "markdown",
   "metadata": {},
   "source": [
    "## Classification Random Forest"
   ]
  },
  {
   "cell_type": "code",
   "execution_count": 34,
   "metadata": {},
   "outputs": [],
   "source": [
    "df.d30_spend = df.d30_spend.apply(lambda x:1 if x > 0 else 0)"
   ]
  },
  {
   "cell_type": "code",
   "execution_count": 35,
   "metadata": {},
   "outputs": [],
   "source": [
    "y_train_clf = df.d30_spend"
   ]
  },
  {
   "cell_type": "code",
   "execution_count": 36,
   "metadata": {},
   "outputs": [],
   "source": [
    "#Random forest classifier\n",
    "clf=RandomForestClassifier(random_state = 42,max_depth=2,n_estimators=20)"
   ]
  },
  {
   "cell_type": "code",
   "execution_count": 37,
   "metadata": {},
   "outputs": [
    {
     "data": {
      "text/plain": [
       "array([0.9995 , 0.99975, 0.99925, 0.99975, 0.9995 ])"
      ]
     },
     "execution_count": 37,
     "metadata": {},
     "output_type": "execute_result"
    }
   ],
   "source": [
    "#standardization\n",
    "sc=StandardScaler()\n",
    "X=sc.fit_transform(X)\n",
    "X=pd.DataFrame(X,columns=col)\n",
    "score = cross_val_score(clf, X, y_train_clf,\n",
    "                        cv=kf, scoring=\"accuracy\")\n",
    "score\n",
    "#print(f'Scores for each fold: {score}')\n",
    "#rmse(score.mean())"
   ]
  },
  {
   "cell_type": "code",
   "execution_count": 38,
   "metadata": {},
   "outputs": [
    {
     "name": "stdout",
     "output_type": "stream",
     "text": [
      "The average accuracy for random forest model is:0.9995499999999999\n"
     ]
    }
   ],
   "source": [
    "#accuracy for random forest classificaiton\n",
    "print(f'The average accuracy for random forest model is:{np.average(score)}')"
   ]
  },
  {
   "cell_type": "code",
   "execution_count": 39,
   "metadata": {},
   "outputs": [],
   "source": [
    "#variable importance\n",
    "df_var_imp = pd.DataFrame({'Variable': dfx.columns,\n",
    "                           'Importance': clf.fit(X,y_train_clf).feature_importances_}) \\\n",
    "                .sort_values(by='Importance', ascending=False) \\\n",
    "                .reset_index(drop=True)"
   ]
  },
  {
   "cell_type": "code",
   "execution_count": 40,
   "metadata": {},
   "outputs": [
    {
     "data": {
      "text/plain": [
       "<AxesSubplot:ylabel='Variable'>"
      ]
     },
     "execution_count": 40,
     "metadata": {},
     "output_type": "execute_result"
    },
    {
     "data": {
      "image/png": "[encoded data removed]",
      "text/plain": [
       "<Figure size 1080x360 with 1 Axes>"
      ]
     },
     "metadata": {
      "needs_background": "light"
     },
     "output_type": "display_data"
    }
   ],
   "source": [
    "#top 15 variable importance chart\n",
    "df_var_imp[:15].sort_values('Importance').plot('Variable','Importance', 'barh', figsize=(15,5), legend=False)"
   ]
  },
  {
   "cell_type": "code",
   "execution_count": 42,
   "metadata": {},
   "outputs": [
    {
     "name": "stderr",
     "output_type": "stream",
     "text": [
      "/Users/j.runge/opt/anaconda3/lib/python3.9/site-packages/sklearn/utils/deprecation.py:87: FutureWarning: Function plot_partial_dependence is deprecated; Function `plot_partial_dependence` is deprecated in 1.0 and will be removed in 1.2. Use PartialDependenceDisplay.from_estimator instead\n",
      "  warnings.warn(msg, category=FutureWarning)\n"
     ]
    },
    {
     "data": {
      "image/png": "[encoded data removed]",
      "text/plain": [
       "<Figure size 1296x288 with 4 Axes>"
      ]
     },
     "metadata": {
      "needs_background": "light"
     },
     "output_type": "display_data"
    }
   ],
   "source": [
    "#partial dependency plots\n",
    "fig,ax = plt.subplots(figsize=(18, 4))\n",
    "plot_partial_dependence(clf, X, ['d3_spend','p_4','count_p_15'],\n",
    "                        grid_resolution=20, ax=ax);"
   ]
  },
  {
   "cell_type": "code",
   "execution_count": 43,
   "metadata": {},
   "outputs": [
    {
     "data": {
      "text/plain": [
       "<AxesSubplot:>"
      ]
     },
     "execution_count": 43,
     "metadata": {},
     "output_type": "execute_result"
    },
    {
     "data": {
      "image/png": "[encoded data removed]",
      "text/plain": [
       "<Figure size 1296x288 with 3 Axes>"
      ]
     },
     "metadata": {
      "needs_background": "light"
     },
     "output_type": "display_data"
    }
   ],
   "source": [
    "#histogram for partial dependency\n",
    "fig,ax = plt.subplots(1, 3, figsize=(18, 4))\n",
    "X['d3_spend'].hist(ax=ax[0], legend=True)\n",
    "X['p_4'].hist(ax=ax[1], legend=True)\n",
    "X['count_p_15'].hist(ax=ax[2], legend=True)"
   ]
  },
  {
   "cell_type": "markdown",
   "metadata": {},
   "source": [
    "## Classification XGBoost\n"
   ]
  },
  {
   "cell_type": "code",
   "execution_count": 44,
   "metadata": {},
   "outputs": [],
   "source": [
    "#import libraries\n",
    "from xgboost import XGBClassifier\n",
    "classifier = XGBClassifier(n_estimators = 20)\n"
   ]
  },
  {
   "cell_type": "code",
   "execution_count": 45,
   "metadata": {},
   "outputs": [
    {
     "name": "stdout",
     "output_type": "stream",
     "text": [
      "Scores for each fold: [1.      1.      0.99925 1.      1.     ]\n",
      "The average accuracy for random forest model is:0.99985\n"
     ]
    }
   ],
   "source": [
    "#XGBoost with 10 fold - cross validation \n",
    "score=cross_val_score(classifier,X,y_train_clf,cv=kf,scoring=\"accuracy\")\n",
    "\n",
    "print(f'Scores for each fold: {score}')\n",
    "print(f'The average accuracy for random forest model is:{np.average(score)}')\n",
    "#rmse(score.mean())"
   ]
  },
  {
   "cell_type": "code",
   "execution_count": 47,
   "metadata": {},
   "outputs": [],
   "source": [
    "#variable selection plot\n",
    "df_var_imp = pd.DataFrame({'Variable': dfx.columns,\n",
    "                           'Importance': classifier.fit(X,y_train_clf).feature_importances_}) \\\n",
    "                .sort_values(by='Importance', ascending=False) \\\n",
    "                .reset_index(drop=True)"
   ]
  },
  {
   "cell_type": "code",
   "execution_count": 48,
   "metadata": {},
   "outputs": [
    {
     "data": {
      "text/plain": [
       "<AxesSubplot:ylabel='Variable'>"
      ]
     },
     "execution_count": 48,
     "metadata": {},
     "output_type": "execute_result"
    },
    {
     "data": {
      "image/png": "[encoded data removed]",
      "text/plain": [
       "<Figure size 1080x360 with 1 Axes>"
      ]
     },
     "metadata": {
      "needs_background": "light"
     },
     "output_type": "display_data"
    }
   ],
   "source": [
    "df_var_imp[:15].sort_values('Importance').plot('Variable','Importance', 'barh', figsize=(15,5), legend=False)"
   ]
  },
  {
   "cell_type": "code",
   "execution_count": 50,
   "metadata": {},
   "outputs": [
    {
     "name": "stderr",
     "output_type": "stream",
     "text": [
      "/Users/j.runge/opt/anaconda3/lib/python3.9/site-packages/sklearn/utils/deprecation.py:87: FutureWarning: Function plot_partial_dependence is deprecated; Function `plot_partial_dependence` is deprecated in 1.0 and will be removed in 1.2. Use PartialDependenceDisplay.from_estimator instead\n",
      "  warnings.warn(msg, category=FutureWarning)\n"
     ]
    },
    {
     "data": {
      "image/png": "[encoded data removed]",
      "text/plain": [
       "<Figure size 1296x288 with 4 Axes>"
      ]
     },
     "metadata": {
      "needs_background": "light"
     },
     "output_type": "display_data"
    }
   ],
   "source": [
    "#partial dependency plot\n",
    "fig,ax = plt.subplots(figsize=(18, 4))\n",
    "plot_partial_dependence(classifier, X, ['max_p_2','d14_spend','p_4'],\n",
    "                        grid_resolution=20, ax=ax);"
   ]
  },
  {
   "cell_type": "code",
   "execution_count": 51,
   "metadata": {},
   "outputs": [
    {
     "data": {
      "text/plain": [
       "<AxesSubplot:>"
      ]
     },
     "execution_count": 51,
     "metadata": {},
     "output_type": "execute_result"
    },
    {
     "data": {
      "image/png": "[encoded data removed]",
      "text/plain": [
       "<Figure size 1296x288 with 3 Axes>"
      ]
     },
     "metadata": {
      "needs_background": "light"
     },
     "output_type": "display_data"
    }
   ],
   "source": [
    "fig,ax = plt.subplots(1, 3, figsize=(18, 4))\n",
    "X['max_p_2'].hist(ax=ax[0], legend=True)\n",
    "X['d14_spend'].hist(ax=ax[1], legend=True)\n",
    "X['p_4'].hist(ax=ax[2], legend=True)"
   ]
  },
  {
   "cell_type": "markdown",
   "metadata": {},
   "source": [
    "## XGBoost Regression"
   ]
  },
  {
   "cell_type": "code",
   "execution_count": 52,
   "metadata": {},
   "outputs": [],
   "source": [
    "#XGBoost regressor\n",
    "XGB = XGBRegressor()"
   ]
  },
  {
   "cell_type": "code",
   "execution_count": 54,
   "metadata": {},
   "outputs": [
    {
     "name": "stdout",
     "output_type": "stream",
     "text": [
      "Scores for each fold: [ -661464.81309561 -1375156.79029754  -593850.44971545  -375109.29390857\n",
      " -1178177.28056648]\n",
      "rmse= 914.74\n"
     ]
    }
   ],
   "source": [
    "#XGBoost with 10-fold cross validation\n",
    "score=cross_val_score(XGB,X,y,cv=kf,scoring=\"neg_mean_squared_error\")\n",
    "print(f'Scores for each fold: {score}')\n",
    "rmse(score.mean())"
   ]
  },
  {
   "cell_type": "code",
   "execution_count": 56,
   "metadata": {},
   "outputs": [],
   "source": [
    "#variable importance\n",
    "df_var_imp = pd.DataFrame({'Variable': dfx.columns,\n",
    "                           'Importance': XGB.fit(X,y).feature_importances_}) \\\n",
    "                .sort_values(by='Importance', ascending=False) \\\n",
    "                .reset_index(drop=True)"
   ]
  },
  {
   "cell_type": "code",
   "execution_count": 57,
   "metadata": {},
   "outputs": [
    {
     "data": {
      "text/plain": [
       "<AxesSubplot:ylabel='Variable'>"
      ]
     },
     "execution_count": 57,
     "metadata": {},
     "output_type": "execute_result"
    },
    {
     "data": {
      "image/png": "[encoded data removed]",
      "text/plain": [
       "<Figure size 1080x360 with 1 Axes>"
      ]
     },
     "metadata": {
      "needs_background": "light"
     },
     "output_type": "display_data"
    }
   ],
   "source": [
    "#top 15 important variables\n",
    "df_var_imp[:15].sort_values('Importance').plot('Variable','Importance', 'barh', figsize=(15,5), legend=False)"
   ]
  },
  {
   "cell_type": "code",
   "execution_count": 58,
   "metadata": {},
   "outputs": [
    {
     "name": "stderr",
     "output_type": "stream",
     "text": [
      "/Users/j.runge/opt/anaconda3/lib/python3.9/site-packages/sklearn/utils/deprecation.py:87: FutureWarning: Function plot_partial_dependence is deprecated; Function `plot_partial_dependence` is deprecated in 1.0 and will be removed in 1.2. Use PartialDependenceDisplay.from_estimator instead\n",
      "  warnings.warn(msg, category=FutureWarning)\n"
     ]
    },
    {
     "data": {
      "image/png": "[encoded data removed]",
      "text/plain": [
       "<Figure size 1296x288 with 4 Axes>"
      ]
     },
     "metadata": {
      "needs_background": "light"
     },
     "output_type": "display_data"
    }
   ],
   "source": [
    "#partial dependency \n",
    "fig,ax = plt.subplots(figsize=(18, 4))\n",
    "plot_partial_dependence(XGB, X, ['d14_spend','d3_spend','sum_p_8'],\n",
    "                        grid_resolution=20, ax=ax);"
   ]
  },
  {
   "cell_type": "code",
   "execution_count": 59,
   "metadata": {},
   "outputs": [
    {
     "data": {
      "text/plain": [
       "<AxesSubplot:>"
      ]
     },
     "execution_count": 59,
     "metadata": {},
     "output_type": "execute_result"
    },
    {
     "data": {
      "image/png": "[encoded data removed]",
      "text/plain": [
       "<Figure size 1296x288 with 3 Axes>"
      ]
     },
     "metadata": {
      "needs_background": "light"
     },
     "output_type": "display_data"
    }
   ],
   "source": [
    "#Histogram for partial dependency \n",
    "fig,ax = plt.subplots(1, 3, figsize=(18, 4))\n",
    "X['d3_spend'].hist(ax=ax[0], legend=True)\n",
    "X['d14_spend'].hist(ax=ax[1], legend=True)\n",
    "X['sum_p_8'].hist(ax=ax[2], legend=True)"
   ]
  },
  {
   "cell_type": "markdown",
   "metadata": {},
   "source": [
    "## Conclusion - TBD    "
   ]
  },
  {
   "cell_type": "code",
   "execution_count": null,
   "metadata": {},
   "outputs": [],
   "source": []
  }
 ],
 "metadata": {
  "kernelspec": {
   "display_name": "Python 3 (ipykernel)",
   "language": "python",
   "name": "python3"
  },
  "language_info": {
   "codemirror_mode": {
    "name": "ipython",
    "version": 3
   },
   "file_extension": ".py",
   "mimetype": "text/x-python",
   "name": "python",
   "nbconvert_exporter": "python",
   "pygments_lexer": "ipython3",
   "version": "3.9.12"
  }
 },
 "nbformat": 4,
 "nbformat_minor": 4
}
